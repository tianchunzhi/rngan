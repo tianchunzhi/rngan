{
 "cells": [
  {
   "cell_type": "code",
   "execution_count": 1,
   "metadata": {
    "ExecuteTime": {
     "end_time": "2021-11-30T08:50:29.147609Z",
     "start_time": "2021-11-30T08:50:29.130926Z"
    }
   },
   "outputs": [],
   "source": [
    "import os\n",
    "os.environ['KMP_DUPLICATE_LIB_OK']='True'"
   ]
  },
  {
   "cell_type": "code",
   "execution_count": 2,
   "metadata": {
    "ExecuteTime": {
     "end_time": "2021-12-01T03:14:22.906389Z",
     "start_time": "2021-12-01T03:14:22.891399Z"
    }
   },
   "outputs": [],
   "source": [
    "import os\n",
    "os.environ['KMP_DUPLICATE_LIB_OK']='True'\n",
    "import random\n",
    "from sklearn.neighbors import NearestNeighbors\n",
    "import numpy as np\n",
    "import pandas as pd\n",
    " \n",
    "class Smote(object):\n",
    "    def __init__(self, N=50, k=5, r=2):\n",
    "        # 初始化self.N, self.k, self.r, self.newindex\n",
    "        self.N = N\n",
    "        self.k = k\n",
    "        # self.r是距离决定因子\n",
    "        self.r = r\n",
    "        # self.newindex用于记录SMOTE算法已合成的样本个数\n",
    "        self.newindex = 0\n",
    "        \n",
    "    # 构建训练函数\n",
    "    def fit(self, samples):\n",
    "        # 初始化self.samples, self.T, self.numattrs\n",
    "        self.samples = samples\n",
    "        # self.T是少数类样本个数，self.numattrs是少数类样本的特征个数\n",
    "        self.T, self.numattrs = self.samples.shape\n",
    "\n",
    "        # 查看N%是否小于100%\n",
    "        if(self.N < 100):\n",
    "            # 如果是，随机抽取N*T/100个样本，作为新的少数类样本\n",
    "            np.random.shuffle(self.samples)\n",
    "            self.T = int(self.N*self.T/100)\n",
    "            self.samples = self.samples[0:self.T,:]\n",
    "            # N%变成100%\n",
    "            self.N = 100\n",
    "\n",
    "        # 查看从T是否不大于近邻数k\n",
    "        if(self.T <= self.k):\n",
    "            # 若是，k更新为T-1\n",
    "            self.k = self.T - 1\n",
    "\n",
    "        # 令N是100的倍数\n",
    "        N = int(self.N/100)\n",
    "        # 创建保存合成样本的数组\n",
    "        self.synthetic = np.zeros((self.T * N, self.numattrs))\n",
    "\n",
    "        # 调用并设置k近邻函数\n",
    "        neighbors = NearestNeighbors(n_neighbors=self.k+1, \n",
    "                                     algorithm='ball_tree', \n",
    "                                     p=self.r).fit(self.samples)\n",
    "\n",
    "        # 对所有输入样本做循环\n",
    "        for i in range(len(self.samples)):\n",
    "            # 调用kneighbors方法搜索k近邻\n",
    "            nnarray = neighbors.kneighbors(self.samples[i].reshape((1,-1)),\n",
    "                                           return_distance=False)[0][1:]\n",
    "\n",
    "            # 把N,i,nnarray输入样本合成函数self.__populate\n",
    "            self.__populate(N, i, nnarray)\n",
    "\n",
    "        # 最后返回合成样本self.synthetic\n",
    "        return self.synthetic\n",
    "    \n",
    "    # 构建合成样本函数\n",
    "    def __populate(self, N, i, nnarray):\n",
    "        # 按照倍数N做循环\n",
    "        for j in range(N):\n",
    "            # attrs用于保存合成样本的特征\n",
    "            attrs = []\n",
    "            # 随机抽取1～k之间的一个整数，即选择k近邻中的一个样本用于合成数据\n",
    "            nn = random.randint(0, self.k-1)\n",
    "            \n",
    "            # 计算差值\n",
    "            diff = self.samples[nnarray[nn]] - self.samples[i]\n",
    "            # 随机生成一个0～1之间的数\n",
    "            gap = random.uniform(0,1)\n",
    "            # 合成的新样本放入数组self.synthetic\n",
    "            self.synthetic[self.newindex] = self.samples[i] + gap*diff\n",
    "\n",
    "            # self.newindex加1， 表示已合成的样本又多了1个\n",
    "            self.newindex += 1\n"
   ]
  },
  {
   "cell_type": "code",
   "execution_count": 4,
   "metadata": {
    "ExecuteTime": {
     "end_time": "2021-12-01T03:14:23.186089Z",
     "start_time": "2021-12-01T03:14:23.168165Z"
    }
   },
   "outputs": [],
   "source": [
    "samples = np.array(pd.read_csv(r'D:\\研二寒假\\课题\\课题数据集\\鲍鱼数据集\\鲍鱼train_分层.csv', error_bad_lines=False, lineterminator=\"\\n\", encoding=\"gbk\",header=None))"
   ]
  },
  {
   "cell_type": "code",
   "execution_count": 5,
   "metadata": {
    "ExecuteTime": {
     "end_time": "2021-12-01T03:14:23.859258Z",
     "start_time": "2021-12-01T03:14:23.776283Z"
    }
   },
   "outputs": [
    {
     "name": "stdout",
     "output_type": "stream",
     "text": [
      "[[ 0.6581173   0.5168827   0.18       ...  0.33800616  0.55029326\n",
      "  16.37653936]\n",
      " [ 0.625       0.48229406  0.15976473 ...  0.20720594  0.33205879\n",
      "   9.        ]\n",
      " [ 0.31398806  0.22921293  0.07955025 ...  0.03083134  0.04417393\n",
      "   5.        ]\n",
      " ...\n",
      " [ 0.52412818  0.40895381  0.15821709 ...  0.15458153  0.25164781\n",
      "  16.67829096]\n",
      " [ 0.47164275  0.35828549  0.16028705 ...  0.10647847  0.14590031\n",
      "   8.        ]\n",
      " [ 0.3203483   0.23901122  0.07633707 ...  0.03921685  0.04556179\n",
      "   6.        ]]\n"
     ]
    }
   ],
   "source": [
    "smote = Smote(N=8.4)\n",
    "synthetic_points1 = smote.fit(samples)\n",
    "print(synthetic_points1)\n"
   ]
  },
  {
   "cell_type": "code",
   "execution_count": 8,
   "metadata": {
    "ExecuteTime": {
     "end_time": "2021-12-01T03:14:29.740759Z",
     "start_time": "2021-12-01T03:14:29.722807Z"
    }
   },
   "outputs": [],
   "source": [
    "np.savetxt(r'D:\\研二寒假\\课题\\课题数据集\\鲍鱼数据集\\SMOTE\\100.csv', synthetic_points1, delimiter = ',') "
   ]
  },
  {
   "cell_type": "code",
   "execution_count": null,
   "metadata": {},
   "outputs": [],
   "source": []
  },
  {
   "cell_type": "code",
   "execution_count": null,
   "metadata": {},
   "outputs": [],
   "source": []
  },
  {
   "cell_type": "code",
   "execution_count": null,
   "metadata": {},
   "outputs": [],
   "source": []
  }
 ],
 "metadata": {
  "hide_input": false,
  "kernelspec": {
   "display_name": "Python 3",
   "language": "python",
   "name": "python3"
  },
  "language_info": {
   "codemirror_mode": {
    "name": "ipython",
    "version": 3
   },
   "file_extension": ".py",
   "mimetype": "text/x-python",
   "name": "python",
   "nbconvert_exporter": "python",
   "pygments_lexer": "ipython3",
   "version": "3.7.4"
  },
  "toc": {
   "base_numbering": 1,
   "nav_menu": {},
   "number_sections": true,
   "sideBar": true,
   "skip_h1_title": false,
   "title_cell": "Table of Contents",
   "title_sidebar": "Contents",
   "toc_cell": false,
   "toc_position": {},
   "toc_section_display": true,
   "toc_window_display": false
  },
  "varInspector": {
   "cols": {
    "lenName": 16,
    "lenType": 16,
    "lenVar": 40
   },
   "kernels_config": {
    "python": {
     "delete_cmd_postfix": "",
     "delete_cmd_prefix": "del ",
     "library": "var_list.py",
     "varRefreshCmd": "print(var_dic_list())"
    },
    "r": {
     "delete_cmd_postfix": ") ",
     "delete_cmd_prefix": "rm(",
     "library": "var_list.r",
     "varRefreshCmd": "cat(var_dic_list()) "
    }
   },
   "types_to_exclude": [
    "module",
    "function",
    "builtin_function_or_method",
    "instance",
    "_Feature"
   ],
   "window_display": false
  }
 },
 "nbformat": 4,
 "nbformat_minor": 4
}
