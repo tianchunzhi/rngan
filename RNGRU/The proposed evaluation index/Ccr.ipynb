{
 "cells": [
  {
   "cell_type": "code",
   "execution_count": 34,
   "id": "bc4a565b",
   "metadata": {},
   "outputs": [],
   "source": [
    "import seaborn as sns\n",
    "import numpy as np\n",
    "df1 = np.array(pd.read_csv(r\"D:\\Pycharmwenjian\\RNGRU\\鲍鱼train_分层.csv\",error_bad_lines=False,encoding='GB2312'))\n",
    "df2 = np.array(pd.read_csv(r\"D:\\Pycharmwenjian\\RNGRU\\RNGAN\\shengchengyangben\\200.csv\",error_bad_lines=False,encoding='GB2312'))"
   ]
  },
  {
   "cell_type": "code",
   "execution_count": 35,
   "id": "03872623",
   "metadata": {},
   "outputs": [],
   "source": [
    "r1 = np.corrcoef(df1)\n",
    "r2 = np.corrcoef(df2)\n",
    "ccr = (np.absolute(r1 - r2).sum()/2)/r1.shape[1]"
   ]
  },
  {
   "cell_type": "code",
   "execution_count": 36,
   "id": "cfeeab2a",
   "metadata": {},
   "outputs": [
    {
     "data": {
      "text/plain": [
       "1.2996590697124963"
      ]
     },
     "execution_count": 36,
     "metadata": {},
     "output_type": "execute_result"
    }
   ],
   "source": [
    "ccr"
   ]
  }
 ],
 "metadata": {
  "kernelspec": {
   "display_name": "Python 3 (ipykernel)",
   "language": "python",
   "name": "python3"
  },
  "language_info": {
   "codemirror_mode": {
    "name": "ipython",
    "version": 3
   },
   "file_extension": ".py",
   "mimetype": "text/x-python",
   "name": "python",
   "nbconvert_exporter": "python",
   "pygments_lexer": "ipython3",
   "version": "3.10.9"
  }
 },
 "nbformat": 4,
 "nbformat_minor": 5
}
